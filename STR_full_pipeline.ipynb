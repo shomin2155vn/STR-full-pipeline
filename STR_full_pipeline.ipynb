{
  "cells": [
    {
      "cell_type": "code",
      "execution_count": null,
      "metadata": {
        "colab": {
          "base_uri": "https://localhost:8080/"
        },
        "id": "R1lrhJcOLDsa",
        "outputId": "d54964e6-53d0-49dd-a546-dc721b202a26"
      },
      "outputs": [
        {
          "name": "stdout",
          "output_type": "stream",
          "text": [
            "Downloading...\n",
            "From (original): https://drive.google.com/uc?id=1cBiff7HEbaQsUGVhbdi5wmj83e9dDgU8\n",
            "From (redirected): https://drive.google.com/uc?id=1cBiff7HEbaQsUGVhbdi5wmj83e9dDgU8&confirm=t&uuid=6f11f397-f28b-49be-b165-b6a5b37a3753\n",
            "To: /content/SceneTrialTrain.zip\n",
            "100% 45.7M/45.7M [00:00<00:00, 65.3MB/s]\n"
          ]
        }
      ],
      "source": [
        "!gdown 1cBiff7HEbaQsUGVhbdi5wmj83e9dDgU8\n",
        "!unzip -q SceneTrialTrain.zip -d datasets"
      ]
    },
    {
      "cell_type": "code",
      "execution_count": null,
      "metadata": {
        "colab": {
          "base_uri": "https://localhost:8080/"
        },
        "id": "dMUY1VlYKBbm",
        "outputId": "46ded26a-eaea-4f3b-d54c-770627a54444"
      },
      "outputs": [
        {
          "name": "stdout",
          "output_type": "stream",
          "text": [
            "Collecting ultralytics\n",
            "  Downloading ultralytics-8.3.185-py3-none-any.whl.metadata (37 kB)\n",
            "Requirement already satisfied: numpy>=1.23.0 in /usr/local/lib/python3.12/dist-packages (from ultralytics) (2.0.2)\n",
            "Requirement already satisfied: matplotlib>=3.3.0 in /usr/local/lib/python3.12/dist-packages (from ultralytics) (3.10.0)\n",
            "Requirement already satisfied: opencv-python>=4.6.0 in /usr/local/lib/python3.12/dist-packages (from ultralytics) (4.12.0.88)\n",
            "Requirement already satisfied: pillow>=7.1.2 in /usr/local/lib/python3.12/dist-packages (from ultralytics) (11.3.0)\n",
            "Requirement already satisfied: pyyaml>=5.3.1 in /usr/local/lib/python3.12/dist-packages (from ultralytics) (6.0.2)\n",
            "Requirement already satisfied: requests>=2.23.0 in /usr/local/lib/python3.12/dist-packages (from ultralytics) (2.32.4)\n",
            "Requirement already satisfied: scipy>=1.4.1 in /usr/local/lib/python3.12/dist-packages (from ultralytics) (1.16.1)\n",
            "Requirement already satisfied: torch>=1.8.0 in /usr/local/lib/python3.12/dist-packages (from ultralytics) (2.8.0+cu126)\n",
            "Requirement already satisfied: torchvision>=0.9.0 in /usr/local/lib/python3.12/dist-packages (from ultralytics) (0.23.0+cu126)\n",
            "Requirement already satisfied: tqdm>=4.64.0 in /usr/local/lib/python3.12/dist-packages (from ultralytics) (4.67.1)\n",
            "Requirement already satisfied: psutil in /usr/local/lib/python3.12/dist-packages (from ultralytics) (5.9.5)\n",
            "Requirement already satisfied: py-cpuinfo in /usr/local/lib/python3.12/dist-packages (from ultralytics) (9.0.0)\n",
            "Requirement already satisfied: pandas>=1.1.4 in /usr/local/lib/python3.12/dist-packages (from ultralytics) (2.2.2)\n",
            "Collecting ultralytics-thop>=2.0.0 (from ultralytics)\n",
            "  Downloading ultralytics_thop-2.0.16-py3-none-any.whl.metadata (14 kB)\n",
            "Requirement already satisfied: contourpy>=1.0.1 in /usr/local/lib/python3.12/dist-packages (from matplotlib>=3.3.0->ultralytics) (1.3.3)\n",
            "Requirement already satisfied: cycler>=0.10 in /usr/local/lib/python3.12/dist-packages (from matplotlib>=3.3.0->ultralytics) (0.12.1)\n",
            "Requirement already satisfied: fonttools>=4.22.0 in /usr/local/lib/python3.12/dist-packages (from matplotlib>=3.3.0->ultralytics) (4.59.1)\n",
            "Requirement already satisfied: kiwisolver>=1.3.1 in /usr/local/lib/python3.12/dist-packages (from matplotlib>=3.3.0->ultralytics) (1.4.9)\n",
            "Requirement already satisfied: packaging>=20.0 in /usr/local/lib/python3.12/dist-packages (from matplotlib>=3.3.0->ultralytics) (25.0)\n",
            "Requirement already satisfied: pyparsing>=2.3.1 in /usr/local/lib/python3.12/dist-packages (from matplotlib>=3.3.0->ultralytics) (3.2.3)\n",
            "Requirement already satisfied: python-dateutil>=2.7 in /usr/local/lib/python3.12/dist-packages (from matplotlib>=3.3.0->ultralytics) (2.9.0.post0)\n",
            "Requirement already satisfied: pytz>=2020.1 in /usr/local/lib/python3.12/dist-packages (from pandas>=1.1.4->ultralytics) (2025.2)\n",
            "Requirement already satisfied: tzdata>=2022.7 in /usr/local/lib/python3.12/dist-packages (from pandas>=1.1.4->ultralytics) (2025.2)\n",
            "Requirement already satisfied: charset_normalizer<4,>=2 in /usr/local/lib/python3.12/dist-packages (from requests>=2.23.0->ultralytics) (3.4.3)\n",
            "Requirement already satisfied: idna<4,>=2.5 in /usr/local/lib/python3.12/dist-packages (from requests>=2.23.0->ultralytics) (3.10)\n",
            "Requirement already satisfied: urllib3<3,>=1.21.1 in /usr/local/lib/python3.12/dist-packages (from requests>=2.23.0->ultralytics) (2.5.0)\n",
            "Requirement already satisfied: certifi>=2017.4.17 in /usr/local/lib/python3.12/dist-packages (from requests>=2.23.0->ultralytics) (2025.8.3)\n",
            "Requirement already satisfied: filelock in /usr/local/lib/python3.12/dist-packages (from torch>=1.8.0->ultralytics) (3.19.1)\n",
            "Requirement already satisfied: typing-extensions>=4.10.0 in /usr/local/lib/python3.12/dist-packages (from torch>=1.8.0->ultralytics) (4.14.1)\n",
            "Requirement already satisfied: setuptools in /usr/local/lib/python3.12/dist-packages (from torch>=1.8.0->ultralytics) (75.2.0)\n",
            "Requirement already satisfied: sympy>=1.13.3 in /usr/local/lib/python3.12/dist-packages (from torch>=1.8.0->ultralytics) (1.13.3)\n",
            "Requirement already satisfied: networkx in /usr/local/lib/python3.12/dist-packages (from torch>=1.8.0->ultralytics) (3.5)\n",
            "Requirement already satisfied: jinja2 in /usr/local/lib/python3.12/dist-packages (from torch>=1.8.0->ultralytics) (3.1.6)\n",
            "Requirement already satisfied: fsspec in /usr/local/lib/python3.12/dist-packages (from torch>=1.8.0->ultralytics) (2025.3.0)\n",
            "Requirement already satisfied: nvidia-cuda-nvrtc-cu12==12.6.77 in /usr/local/lib/python3.12/dist-packages (from torch>=1.8.0->ultralytics) (12.6.77)\n",
            "Requirement already satisfied: nvidia-cuda-runtime-cu12==12.6.77 in /usr/local/lib/python3.12/dist-packages (from torch>=1.8.0->ultralytics) (12.6.77)\n",
            "Requirement already satisfied: nvidia-cuda-cupti-cu12==12.6.80 in /usr/local/lib/python3.12/dist-packages (from torch>=1.8.0->ultralytics) (12.6.80)\n",
            "Requirement already satisfied: nvidia-cudnn-cu12==9.10.2.21 in /usr/local/lib/python3.12/dist-packages (from torch>=1.8.0->ultralytics) (9.10.2.21)\n",
            "Requirement already satisfied: nvidia-cublas-cu12==12.6.4.1 in /usr/local/lib/python3.12/dist-packages (from torch>=1.8.0->ultralytics) (12.6.4.1)\n",
            "Requirement already satisfied: nvidia-cufft-cu12==11.3.0.4 in /usr/local/lib/python3.12/dist-packages (from torch>=1.8.0->ultralytics) (11.3.0.4)\n",
            "Requirement already satisfied: nvidia-curand-cu12==10.3.7.77 in /usr/local/lib/python3.12/dist-packages (from torch>=1.8.0->ultralytics) (10.3.7.77)\n",
            "Requirement already satisfied: nvidia-cusolver-cu12==11.7.1.2 in /usr/local/lib/python3.12/dist-packages (from torch>=1.8.0->ultralytics) (11.7.1.2)\n",
            "Requirement already satisfied: nvidia-cusparse-cu12==12.5.4.2 in /usr/local/lib/python3.12/dist-packages (from torch>=1.8.0->ultralytics) (12.5.4.2)\n",
            "Requirement already satisfied: nvidia-cusparselt-cu12==0.7.1 in /usr/local/lib/python3.12/dist-packages (from torch>=1.8.0->ultralytics) (0.7.1)\n",
            "Requirement already satisfied: nvidia-nccl-cu12==2.27.3 in /usr/local/lib/python3.12/dist-packages (from torch>=1.8.0->ultralytics) (2.27.3)\n",
            "Requirement already satisfied: nvidia-nvtx-cu12==12.6.77 in /usr/local/lib/python3.12/dist-packages (from torch>=1.8.0->ultralytics) (12.6.77)\n",
            "Requirement already satisfied: nvidia-nvjitlink-cu12==12.6.85 in /usr/local/lib/python3.12/dist-packages (from torch>=1.8.0->ultralytics) (12.6.85)\n",
            "Requirement already satisfied: nvidia-cufile-cu12==1.11.1.6 in /usr/local/lib/python3.12/dist-packages (from torch>=1.8.0->ultralytics) (1.11.1.6)\n",
            "Requirement already satisfied: triton==3.4.0 in /usr/local/lib/python3.12/dist-packages (from torch>=1.8.0->ultralytics) (3.4.0)\n",
            "Requirement already satisfied: six>=1.5 in /usr/local/lib/python3.12/dist-packages (from python-dateutil>=2.7->matplotlib>=3.3.0->ultralytics) (1.17.0)\n",
            "Requirement already satisfied: mpmath<1.4,>=1.1.0 in /usr/local/lib/python3.12/dist-packages (from sympy>=1.13.3->torch>=1.8.0->ultralytics) (1.3.0)\n",
            "Requirement already satisfied: MarkupSafe>=2.0 in /usr/local/lib/python3.12/dist-packages (from jinja2->torch>=1.8.0->ultralytics) (3.0.2)\n",
            "Downloading ultralytics-8.3.185-py3-none-any.whl (1.1 MB)\n",
            "\u001b[2K   \u001b[90m━━━━━━━━━━━━━━━━━━━━━━━━━━━━━━━━━━━━━━━━\u001b[0m \u001b[32m1.1/1.1 MB\u001b[0m \u001b[31m18.0 MB/s\u001b[0m eta \u001b[36m0:00:00\u001b[0m\n",
            "\u001b[?25hDownloading ultralytics_thop-2.0.16-py3-none-any.whl (28 kB)\n",
            "Installing collected packages: ultralytics-thop, ultralytics\n",
            "Successfully installed ultralytics-8.3.185 ultralytics-thop-2.0.16\n"
          ]
        }
      ],
      "source": [
        "!pip install ultralytics\n"
      ]
    },
    {
      "cell_type": "code",
      "execution_count": null,
      "metadata": {
        "colab": {
          "base_uri": "https://localhost:8080/"
        },
        "id": "NacWmT4FKGSi",
        "outputId": "645e8c14-f457-4065-ef79-0f40a8aeb82b"
      },
      "outputs": [
        {
          "name": "stdout",
          "output_type": "stream",
          "text": [
            "Creating new Ultralytics Settings v0.0.6 file ✅ \n",
            "View Ultralytics Settings with 'yolo settings' or at '/root/.config/Ultralytics/settings.json'\n",
            "Update Settings with 'yolo settings key=value', i.e. 'yolo settings runs_dir=path/to/dir'. For help see https://docs.ultralytics.com/quickstart/#ultralytics-settings.\n"
          ]
        }
      ],
      "source": [
        "from ultralytics import YOLO\n",
        "import torch.nn as nn\n",
        "from torchvision import transforms\n",
        "import torch\n",
        "import torchvision\n",
        "import timm\n",
        "from PIL import Image\n",
        "import cv2\n",
        "import matplotlib.pyplot as plt\n",
        "import os\n",
        "device = 'cuda' if torch.cuda.is_available() else 'cpu'"
      ]
    },
    {
      "cell_type": "markdown",
      "metadata": {
        "id": "7mJb3glLMU-M"
      },
      "source": [
        "# **Data Preprocessing**"
      ]
    },
    {
      "cell_type": "markdown",
      "metadata": {
        "id": "sFSjQSsOMdLD"
      },
      "source": [
        "# **Text Recognition Model**"
      ]
    },
    {
      "cell_type": "code",
      "execution_count": null,
      "metadata": {
        "id": "eEvyFVY7Mg_j"
      },
      "outputs": [],
      "source": [
        "class CRNN(nn.Module):\n",
        "  def __init__(\n",
        "      self,vocab_size,hidden_size,n_layers,dropout=0.2,unfreeze_layers=3\n",
        "  ):\n",
        "    super(CRNN,self).__init__()\n",
        "    backbone = timm.create_model('resnet50',pretrained=True,in_chans=1)\n",
        "\n",
        "    modules = list(backbone.children()) [:-2]\n",
        "    for layer in modules[-int(unfreeze_layers):]:\n",
        "      for param in layer.parameters():\n",
        "        param.requires_grad = True\n",
        "\n",
        "    modules.append(nn.AdaptiveAvgPool2d((1,None)))\n",
        "    self.backbone = nn.Sequential(*modules)\n",
        "    self.mapSeq = nn.Sequential(\n",
        "        nn.Linear(2048,512),nn.ReLU(),nn.Dropout(dropout)\n",
        "    )\n",
        "    self.gru = nn.GRU(\n",
        "        512,\n",
        "        hidden_size,\n",
        "        n_layers,\n",
        "        bidirectional=True,\n",
        "        batch_first=True,\n",
        "        dropout=dropout\n",
        "    )\n",
        "    self.layer_norm = nn.LayerNorm(hidden_size*2)\n",
        "    self.ff = nn.Sequential(\n",
        "        nn.Linear(hidden_size*2,hidden_size),nn.ReLU()\n",
        "    )\n",
        "    self.batch_norm = nn.BatchNorm1d(hidden_size)\n",
        "    self.out = nn.Sequential(\n",
        "        nn.Linear(hidden_size,vocab_size), nn.LogSoftmax(dim=2)\n",
        "    )\n",
        "  def forward(self,x):\n",
        "    x = self.backbone(x)\n",
        "    x = x.squeeze(2)\n",
        "    x = x.permute(0,2,1)\n",
        "    x = self.mapSeq(x)\n",
        "    x,_ = self.gru(x)\n",
        "    x = self.layer_norm(x)\n",
        "    x = self.ff(x)\n",
        "    x = x.permute(0,2,1)\n",
        "    x = self.batch_norm(x)\n",
        "    x = x.permute(0,2,1)\n",
        "    x = self.out(x)\n",
        "    x = x.permute(1,0,2)\n",
        "    return x"
      ]
    },
    {
      "cell_type": "code",
      "execution_count": null,
      "metadata": {
        "id": "Vi7hZOodMtdH"
      },
      "outputs": [],
      "source": [
        "chars = \"0123456789abcdefghijklmnopqrstuvwxyz-\"\n",
        "vocab_size=  len(chars) + 1\n",
        "idx_2_chars = {idx+1:char for idx,char in enumerate(chars)}\n",
        "chars_2_idx = {char:idx+1 for idx,char in enumerate(chars)}\n"
      ]
    },
    {
      "cell_type": "code",
      "execution_count": null,
      "metadata": {
        "colab": {
          "base_uri": "https://localhost:8080/"
        },
        "id": "ntaDxFSfNmor",
        "outputId": "4cc226d9-e308-458a-d709-87c26ac5df87"
      },
      "outputs": [
        {
          "data": {
            "text/plain": [
              "<All keys matched successfully>"
            ]
          },
          "execution_count": 7,
          "metadata": {},
          "output_type": "execute_result"
        }
      ],
      "source": [
        "hidden_size=256\n",
        "n_layers = 3\n",
        "dropout = 0.2\n",
        "unfreeze_layers = 3\n",
        "text_reg_model = CRNN(vocab_size,hidden_size,n_layers,dropout,unfreeze_layers).to(device)\n",
        "text_reg_model.load_state_dict(torch.load('./weight/text_reg.pt',weights_only=True))"
      ]
    },
    {
      "cell_type": "code",
      "execution_count": null,
      "metadata": {
        "id": "1pA69tbFPRWN"
      },
      "outputs": [],
      "source": [
        "def decode(encoded_outputs,idx_2_chars,blank_char='-'):\n",
        "  encoded_outputs = encoded_outputs.permute(1,0,2).squeeze(0) #seqlen x vocabsize\n",
        "  decoded_output = ''\n",
        "  prev_char = None\n",
        "  for token in encoded_outputs:\n",
        "    pred_idx = torch.argmax(token).item()\n",
        "    char = idx_2_chars[pred_idx]\n",
        "    if char == blank_char or pred_idx == 0:\n",
        "      prev_char = char\n",
        "      continue\n",
        "    if char != prev_char:\n",
        "      decoded_output += char\n",
        "    prev_char = char\n",
        "  return decoded_output\n"
      ]
    },
    {
      "cell_type": "code",
      "execution_count": null,
      "metadata": {
        "id": "pezV6J8yXhnU"
      },
      "outputs": [],
      "source": [
        "data_transforms = transforms.Compose([\n",
        "        transforms.Grayscale(num_output_channels=1),\n",
        "        transforms.Resize((100,420)),\n",
        "        transforms.ToTensor(),\n",
        "        transforms.Normalize((0.5,),(0.5,))\n",
        "    ])"
      ]
    },
    {
      "cell_type": "code",
      "execution_count": null,
      "metadata": {
        "id": "FWf4y5h1X6dE"
      },
      "outputs": [],
      "source": [
        "def text_regconition(cropped_img,data_transforms,text_reg_model,idx_2_chars,blank_char):\n",
        "  transformed_img = data_transforms(cropped_img).to(device)\n",
        "  transformed_img = transformed_img.unsqueeze(0)\n",
        "  text_reg_model.eval()\n",
        "  with torch.no_grad():\n",
        "    output = text_reg_model(transformed_img)\n",
        "    decoded_output = decode(output,idx_2_chars,blank_char)\n",
        "  return decoded_output\n"
      ]
    },
    {
      "cell_type": "code",
      "execution_count": null,
      "metadata": {
        "id": "A502Pkq0R1E6"
      },
      "outputs": [],
      "source": [
        "def predict(img_path,data_transforms,text_det_model,text_reg_model,idx_2_chars,blank_char,device):\n",
        "  text_det_results = text_det_model(img_path)[0]\n",
        "  bboxes = text_det_results.boxes.xyxy.tolist()\n",
        "  confs = text_det_results.boxes.conf.tolist()\n",
        "  classes = text_det_results.boxes.cls.tolist()\n",
        "  outputs = []\n",
        "  for bbox in bboxes:\n",
        "    img = Image.open(img_path)\n",
        "    cropped_img = img.crop((bbox[0],bbox[1],bbox[2],bbox[3]))\n",
        "    output = text_regconition(cropped_img,data_transforms,text_reg_model,idx_2_chars,blank_char)\n",
        "    outputs.append(output)\n",
        "  return zip(bboxes,classes,confs,outputs)\n",
        "\n"
      ]
    },
    {
      "cell_type": "code",
      "execution_count": null,
      "metadata": {
        "id": "geXVHteIbK18"
      },
      "outputs": [],
      "source": [
        "def outputs_visualization(img_path,outputs):\n",
        "  img = Image.open(img_path)\n",
        "  plt.figure(figsize=(12,8))\n",
        "  plt.imshow(img)\n",
        "  plt.axis('off')\n",
        "\n",
        "  for bbox,cls,conf,output in outputs:\n",
        "    x1,y1,x2,y2 = bbox\n",
        "    plt.gca().add_patch(\n",
        "        plt.Rectangle(\n",
        "            (x1,y1), x2-x1,y2-y1, fill=False,edgecolor='blue',linewidth=2\n",
        "        )\n",
        "    )\n",
        "    plt.text(\n",
        "        x1,y1-10,f'text ({round(conf,2)}) {output}',fontsize=10,bbox=dict(facecolor='red',alpha=0.5)\n",
        "    )\n",
        "  plt.show()"
      ]
    },
    {
      "cell_type": "markdown",
      "metadata": {
        "id": "aP1Z96xicJ0V"
      },
      "source": [
        "# **Inference**"
      ]
    },
    {
      "cell_type": "code",
      "execution_count": null,
      "metadata": {
        "colab": {
          "background_save": true,
          "base_uri": "https://localhost:8080/",
          "height": 1000
        },
        "id": "JpkZ5mg-kz_a",
        "outputId": "04a22011-999f-447f-b34a-e6daa3934a31"
      },
      "outputs": [],
      "source": [
        "text_det_model_path = './weight/text_detect.pt'\n",
        "text_det_model = YOLO(text_det_model_path,verbose=False)\n",
        "img_dir = 'datasets/SceneTrialTrain/apanar_06.08.2002'\n",
        "for idx,img_filename in enumerate(os.listdir(img_dir)):\n",
        "  img_path = os.path.join(img_dir,img_filename)\n",
        "  outputs = predict(img_path,data_transforms,text_det_model,text_reg_model,idx_2_chars,'-',device)\n",
        "  outputs_visualization(img_path,outputs)\n",
        "  if idx >20:\n",
        "    break"
      ]
    }
  ],
  "metadata": {
    "accelerator": "GPU",
    "colab": {
      "gpuType": "T4",
      "provenance": []
    },
    "kernelspec": {
      "display_name": "Python 3",
      "name": "python3"
    },
    "language_info": {
      "name": "python"
    }
  },
  "nbformat": 4,
  "nbformat_minor": 0
}